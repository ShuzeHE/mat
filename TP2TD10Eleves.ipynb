{
 "cells": [
  {
   "cell_type": "markdown",
   "metadata": {},
   "source": [
    "## PROBABILITES et STATISTIQUES : TP Tests (Groupe TD 10)"
   ]
  },
  {
   "cell_type": "markdown",
   "metadata": {},
   "source": [
    "### Inidiquer ici : Nom1, Prénom1 et éventuellement Nom2, Prénom2 si binôme ###"
   ]
  },
  {
   "cell_type": "markdown",
   "metadata": {},
   "source": [
    "## 1 - Prise en main des commandes"
   ]
  },
  {
   "cell_type": "markdown",
   "metadata": {},
   "source": [
    "Nous commençons par importer les bibliothèques qui seront utilisées dans ce TP."
   ]
  },
  {
   "cell_type": "code",
   "execution_count": null,
   "metadata": {
    "collapsed": true
   },
   "outputs": [],
   "source": [
    "# Les bibliothèques Python pour ce TP (***en rajouter ici si besoin***)\n",
    "%matplotlib inline\n",
    "import matplotlib.pyplot\n",
    "import numpy\n",
    "import math\n",
    "import scipy.stats"
   ]
  },
  {
   "cell_type": "markdown",
   "metadata": {},
   "source": [
    "Voici quelques commandes utiles pour ce TP. Elles servent à calculer les quantiles pour les lois que nous allons rencontrer."
   ]
  },
  {
   "cell_type": "code",
   "execution_count": null,
   "metadata": {
    "collapsed": false
   },
   "outputs": [],
   "source": [
    "# Valeur de alpha\n",
    "alpha = 0.95\n",
    "\n",
    "# Indiquer la fonction Python qui permet de calculer le quantile d'ordre alpha pour une loi normale standard\n",
    "\n",
    "a = \n",
    "print 'a =', a\n",
    "\n",
    "# Indiquer la fonction Python qui permet de calculer le quantile d'ordre alpha pour la loi chi^2 à d degrés de liberté\n",
    "d= 3\n",
    "\n",
    "c = \n",
    "print 'c =', c"
   ]
  },
  {
   "cell_type": "markdown",
   "metadata": {},
   "source": [
    "Nous allons devoir dans ce TP générer des échantillons de variables aléatoires. Voici un rappel de quelques fonctions dont nous allons nous servir."
   ]
  },
  {
   "cell_type": "code",
   "execution_count": null,
   "metadata": {
    "collapsed": false
   },
   "outputs": [],
   "source": [
    "# Tirage d'une v.a. de loi normale\n",
    "\n",
    "d = numpy.random.normal(0,2)\n",
    "print'd =',d\n",
    "\n",
    "# Tirage d'un échantillon de 3 v.a. de loi normale\n",
    "\n",
    "e = numpy.random.normal(2,2,3)\n",
    "print'e =', e\n",
    "\n",
    "# Tirage d'une v.a. de loi exponentielle\n",
    "\n",
    "d = numpy.random.exponential(4)\n",
    "print'd =',d\n",
    "\n",
    "# Tirage d'un échantillon de 10 v.a. de loi exponentielle\n",
    "\n",
    "e = numpy.random.exponential(4,10)\n",
    "print'e =', e"
   ]
  },
  {
   "cell_type": "markdown",
   "metadata": {},
   "source": [
    "Comme nous souhaitons utiliser uniquement des listes dans ce TP, il faut déterminer le type de l'objet e et si besoin le convertir en liste."
   ]
  },
  {
   "cell_type": "code",
   "execution_count": null,
   "metadata": {
    "collapsed": false
   },
   "outputs": [],
   "source": [
    "# Type de l'objet e\n",
    "type(e)"
   ]
  },
  {
   "cell_type": "code",
   "execution_count": null,
   "metadata": {
    "collapsed": false
   },
   "outputs": [],
   "source": [
    "# Transformation de l'objet e en liste\n",
    "E = list(e)\n",
    "type(E)"
   ]
  },
  {
   "cell_type": "markdown",
   "metadata": {},
   "source": [
    "## 2 - Test du rapport des maxima de vraisemblance."
   ]
  },
  {
   "cell_type": "markdown",
   "metadata": {},
   "source": [
    "Nous considérons le problème de test de la variance pour un échantillon gaussien de loi $N(\\mu, \\sigma^2)$ lorsque la moyenne $\\mu$ est connue.\n",
    "La taille de l'échantillon sera notée $n$.\n",
    "\n",
    "Le problème de test considéré est le suivante :\n",
    "\n",
    "$H_0 : \\sigma = \\sigma_0$ contre $H_1 : \\sigma = \\sigma_1$ avec $\\sigma_1 > \\sigma_0$."
   ]
  },
  {
   "cell_type": "markdown",
   "metadata": {},
   "source": [
    "### 2.1 - Préliminaires théoriques###"
   ]
  },
  {
   "cell_type": "markdown",
   "metadata": {},
   "source": [
    "**Question 1 -** Ecrire le test du rapport des maxima de vraisemblance : statistique de test et région de rejet."
   ]
  },
  {
   "cell_type": "markdown",
   "metadata": {},
   "source": [
    "** Réponse à la question 1 -**\n",
    "\n",
    " *à compléter ici ou sur votre feuille*"
   ]
  },
  {
   "cell_type": "markdown",
   "metadata": {},
   "source": [
    "**Question  2 -** Quelle est la loi de la statistique de test sous l'hypothèse nulle $H_0$? Que vaut le seuil de la région de rejet? Est-ce que la région de rejet change si la valeur $\\sigma_1$ est remplacée par une valeur $\\sigma_2 > \\sigma_0$?"
   ]
  },
  {
   "cell_type": "markdown",
   "metadata": {},
   "source": [
    "**Réponse à la question 2 -**\n",
    "\n",
    "*à compléter ici ou sur votre feuille*"
   ]
  },
  {
   "cell_type": "markdown",
   "metadata": {},
   "source": [
    "### 2.2 - Création des fonctions Python ###"
   ]
  },
  {
   "cell_type": "markdown",
   "metadata": {},
   "source": [
    "**Question 3 -** Compléter la fonction suivante pour qu'elle calcule la statistique de test."
   ]
  },
  {
   "cell_type": "code",
   "execution_count": null,
   "metadata": {
    "collapsed": true
   },
   "outputs": [],
   "source": [
    "def StatTest(S, m):\n",
    "    \"Function to compute the EMV of the variance when expectation is known\"\n",
    "    \"S is the sample, m is value taken as the expectation\"\n",
    "    \"TestStat = test statistics\"\n",
    "    \n",
    "    \n",
    "    \n",
    "    return TestStat;"
   ]
  },
  {
   "cell_type": "markdown",
   "metadata": {},
   "source": [
    "Testons la fonction ci-dessus.\n",
    "\n",
    "On prend\n",
    "*  taille de l'échantillon $n = 15$\n",
    "*  moyenne $\\mu = 1645$\n",
    "*  écart-type $\\sigma_0 = 45$ (noté *s0* dans le programme)"
   ]
  },
  {
   "cell_type": "code",
   "execution_count": null,
   "metadata": {
    "collapsed": false
   },
   "outputs": [],
   "source": [
    "# Sample size\n",
    "n = 15\n",
    "# Mean\n",
    "mu = 1645\n",
    "# Standard deviation under the null hypothesis\n",
    "s0 = 45\n",
    "\n",
    "ech = list(numpy.random.normal(mu, s0, n))\n",
    "T = StatTest(ech, mu)\n",
    "print'T =',T"
   ]
  },
  {
   "cell_type": "markdown",
   "metadata": {},
   "source": [
    "** Question 4 -** Compléter la fonction suivante pour qu'elle renvoie la décision du test (0 pour l'hypothèse nulle $H_0$ et 1 pour l'hypothèse alternative $H_1$)."
   ]
  },
  {
   "cell_type": "code",
   "execution_count": null,
   "metadata": {
    "collapsed": true
   },
   "outputs": [],
   "source": [
    "def Test(T , t):\n",
    "    \"T = test statistics, t = threshold\"\n",
    "    # Decision\n",
    "    \n",
    "    \n",
    "    \n",
    "    return decision;"
   ]
  },
  {
   "cell_type": "markdown",
   "metadata": {},
   "source": [
    "Testons la fonction ci-dessus en complétant le code suivant. On prendra une erreur de première espèce égale à $10\\%$."
   ]
  },
  {
   "cell_type": "code",
   "execution_count": null,
   "metadata": {
    "collapsed": false
   },
   "outputs": [],
   "source": [
    "# 1st-type error\n",
    "alpha = 0.1\n",
    "\n",
    "# Threshold to be computed\n",
    "seuil = \n",
    "print'seuil= ', seuil\n",
    "\n",
    "# Decision\n",
    "decision = Test(T, seuil)\n",
    "print'decision= ', decision"
   ]
  },
  {
   "cell_type": "markdown",
   "metadata": {},
   "source": [
    "** Question 5 -** Nous pouvons maintenant écrire une fonction qui va calculer la proportion de rejets de l'hypothèse nulle $H_0$ pour $K$ échantillons. Les paramètres passés à cette fonction sont\n",
    "*  le nombre d'échantillons à tirer $K$\n",
    "*  la taille de l'échantillon $n$\n",
    "*  l'espérance $\\mu$\n",
    "*  l'écart-type sous $H_0 : \\sigma = \\sigma_0$, noté s0\n",
    "*  l'écart-type utilisé pour générer les données $\\sigma$, noté s\n",
    "*  l'erreur de première espèce $\\alpha$, noté alpha\n",
    "\n",
    "Compléter la fonction suivante pour qu'elle réalise les tests.\n"
   ]
  },
  {
   "cell_type": "code",
   "execution_count": null,
   "metadata": {
    "collapsed": true
   },
   "outputs": [],
   "source": [
    "def Resultat(K, n, m, s, s0, alpha):\n",
    "    \"Function to generate tests for K samples\"\n",
    "    # Threshold to be computed\n",
    "    vt = \n",
    "    # Do K times the test\n",
    "    somme = 0\n",
    "    for i in range(0,K):\n",
    "        # Generate the sample\n",
    "        A = \n",
    "        # Compute the test statistics\n",
    "        TS = \n",
    "        # Make the test\n",
    "        decision = \n",
    "        # Add the decision to the results\n",
    "        somme = somme + decision\n",
    "    proportion = somme / float(K) \n",
    "    return proportion;"
   ]
  },
  {
   "cell_type": "markdown",
   "metadata": {},
   "source": [
    "Testons cette fonction en générant des échantillons sous l'hypothèse nulle."
   ]
  },
  {
   "cell_type": "code",
   "execution_count": null,
   "metadata": {
    "collapsed": false
   },
   "outputs": [],
   "source": [
    "# Parameters\n",
    "# Number of samples\n",
    "K = 100\n",
    "# Sample size\n",
    "n = 30\n",
    "# Mean : known\n",
    "mu = 1645\n",
    "# Standard deviation under null hypothesis\n",
    "s0 = 45\n",
    "# Standard deviation used to draw the sample\n",
    "s = 45\n",
    "# 1st-type error\n",
    "alpha = 0.1\n",
    "\n",
    "# Call to function Resultat\n",
    "proportion = Resultat(K, n, mu, s, s0, alpha)\n",
    "print 'proportion de rejets de H0 = ', proportion"
   ]
  },
  {
   "cell_type": "markdown",
   "metadata": {},
   "source": [
    "### 2.3 - Erreur de première espèce et puissance"
   ]
  },
  {
   "cell_type": "markdown",
   "metadata": {},
   "source": [
    "Maintenant que toutes les fonctions sont en place, nous allons pouvoir les utiliser pour illustrer la puissance du test et son évolution quand l'écart-type augmente, la taille de l'échantillon change ou l'erreur de première espèce change.\n",
    "\n",
    "Nous considérons le problème de test\n",
    "\n",
    "$H_0 : \\sigma = 45$ contre $H_1 : \\sigma > 45$.\n",
    "\n",
    "Nous allons calculer la puissance pour différentes valeurs de l'écart-type : $\\{50, 55, 60, 65, 70\\}$.\n",
    "\n",
    "Nous commençons avec les paramètres suivants\n",
    "*  nombre d'échantillons : $K = 100$\n",
    "*  taille d'un échantillon : $n = 30 $\n",
    "*  espérance : $\\mu = 1645$\n",
    "*  écart-type sous l'hypothèse nulle $H_0 : \\sigma_0 = 45$\n",
    "*  écart-type utilisé pour générer les échantillons : $\\sigma \\in \\{45, 50, 55, 60, 65, 70\\}$\n",
    "*  erreur de première espèce : $\\alpha = 0.1$\n"
   ]
  },
  {
   "cell_type": "code",
   "execution_count": null,
   "metadata": {
    "collapsed": false
   },
   "outputs": [],
   "source": [
    "# Parameters\n",
    "# Number of samples\n",
    "K = 100\n",
    "# Sample size\n",
    "n = 30\n",
    "# Mean : known\n",
    "mu = 1645\n",
    "# Standard deviation under null hypothesis\n",
    "s0 = 45\n",
    "# Standard deviations used to draw the sample\n",
    "s = [45, 50, 55, 60, 65, 70]\n",
    "# 1st-type error\n",
    "alpha = 0.1\n",
    "\n",
    "# Structure to store the results\n",
    "resultat30a01 = list()\n",
    "\n",
    "# Loop to compute the proportion of rejections under several values for the standard error\n",
    "for i in range(0, len(s)):\n",
    "    proportion = Resultat(K, n, mu, s[i], s0, alpha)\n",
    "    resultat30a01.append(proportion)\n",
    "print('resultats= '), resultat30a01"
   ]
  },
  {
   "cell_type": "markdown",
   "metadata": {},
   "source": [
    "Illustrons graphiquement le résultat."
   ]
  },
  {
   "cell_type": "code",
   "execution_count": null,
   "metadata": {
    "collapsed": false
   },
   "outputs": [],
   "source": [
    "# Display of the results\n",
    "matplotlib.pyplot.figure(1)\n",
    "\n",
    "matplotlib.pyplot.plot(s, resultat30a01, marker = 'o', color = \"green\")\n",
    "matplotlib.pyplot.title(\"1st Type Error and Power\")\n",
    "matplotlib.pyplot.axis([s[0] - 10, s[len(s)-1] + 10, 0, 1.1])\n",
    "matplotlib.pyplot.xlabel('Standard error')\n",
    "matplotlib.pyplot.ylabel('Proportion of rejections')\n",
    "matplotlib.pyplot.draw()\n",
    "matplotlib.pyplot.show()"
   ]
  },
  {
   "cell_type": "markdown",
   "metadata": {},
   "source": [
    "** Question 6 -** Que constatez-vous lorsque l'écart-type utilisé pour générer l'échantillon augmente?"
   ]
  },
  {
   "cell_type": "markdown",
   "metadata": {},
   "source": [
    "** Réponse à la question 6 -** \n",
    "\n",
    "*à compléter ici ou sur votre feuille*"
   ]
  },
  {
   "cell_type": "markdown",
   "metadata": {},
   "source": [
    "Augmentons la taille de l'échantillon à $n = 100$ tout en gardant les autres paramètres du problème de test."
   ]
  },
  {
   "cell_type": "code",
   "execution_count": null,
   "metadata": {
    "collapsed": false
   },
   "outputs": [],
   "source": [
    "# Parameters\n",
    "# Number of samples\n",
    "K = 100\n",
    "# Sample size\n",
    "n = 100\n",
    "# Mean : known\n",
    "mu = 1645\n",
    "# Standard deviation under null hypothesis\n",
    "s0 = 45\n",
    "# Standard deviation to draw the sample\n",
    "s = [45, 50, 55, 60, 65, 70]\n",
    "# 1st-type error\n",
    "alpha = 0.1\n",
    "\n",
    "# Structure to store the results\n",
    "resultat100a01 = list()\n",
    "\n",
    "# Loop to compute the proportion of rejections under several values for the standard error\n",
    "for i in range(0, len(s)):\n",
    "    proportion = Resultat(K, n, mu, s[i], s0, alpha)\n",
    "    resultat100a01.append(proportion)\n",
    "print('resultats= '), resultat100a01"
   ]
  },
  {
   "cell_type": "markdown",
   "metadata": {},
   "source": [
    "Illustrons graphiquement le résultat en traçant les courbes pour $n=30$ et $n=100$."
   ]
  },
  {
   "cell_type": "code",
   "execution_count": null,
   "metadata": {
    "collapsed": false
   },
   "outputs": [],
   "source": [
    "# Display of the results for n=30 and n=100\n",
    "matplotlib.pyplot.figure(2)\n",
    "\n",
    "matplotlib.pyplot.plot(s, resultat30a01, marker = 'o', color = \"green\")\n",
    "matplotlib.pyplot.plot(s, resultat100a01, marker = 'o', color = \"blue\")\n",
    "matplotlib.pyplot.title(\"Erreur et puissance\")\n",
    "matplotlib.pyplot.axis([s[0] - 10, s[len(s)-1] + 10, 0, 1.1])\n",
    "matplotlib.pyplot.xlabel('Standard error')\n",
    "matplotlib.pyplot.ylabel('Proportion of rejections')\n",
    "matplotlib.pyplot.draw()\n",
    "matplotlib.pyplot.show()"
   ]
  },
  {
   "cell_type": "markdown",
   "metadata": {},
   "source": [
    "** Question 7 -** Que constatez-vous lorsque la taille de l'échantillon augmente? Pouvez-vous expliquer la raison du comportement observé?"
   ]
  },
  {
   "cell_type": "markdown",
   "metadata": {},
   "source": [
    "** Réponse à la question 7 -**\n",
    "\n",
    "*à compléter ici ou sur votre feuille*"
   ]
  },
  {
   "cell_type": "markdown",
   "metadata": {},
   "source": [
    "Diminuons l'erreur de première espèce tout en gardant les autres paramètres du problème de test. Nous la prenons maintenant égale à $\\alpha = 1\\%$."
   ]
  },
  {
   "cell_type": "code",
   "execution_count": null,
   "metadata": {
    "collapsed": false
   },
   "outputs": [],
   "source": [
    "# Parameters\n",
    "# Number of samples\n",
    "K = 100\n",
    "# Sample size\n",
    "n = 30\n",
    "# Mean : known\n",
    "mu = 1645\n",
    "# Standard deviation under null hypothesis\n",
    "s0 = 45\n",
    "# Standard deviations to draw the sample\n",
    "s = [45, 50, 55, 60, 65, 70]\n",
    "# 1st-type error\n",
    "alpha = 0.01\n",
    "\n",
    "# Structure to store the results\n",
    "resultat30a001 = list()\n",
    "\n",
    "# Loop to compute the proportion of rejections under several values for the standard error\n",
    "for i in range(0, len(s)):\n",
    "    proportion = Resultat(K, n, mu, s[i], s0, alpha)\n",
    "    resultat30a001.append(proportion)\n",
    "print('resultats= '), resultat30a001"
   ]
  },
  {
   "cell_type": "markdown",
   "metadata": {},
   "source": [
    "Illustrons graphiquement le résultat en traçant les courbes pour $\\alpha=10\\%$ et $\\alpha=1\\%$."
   ]
  },
  {
   "cell_type": "code",
   "execution_count": null,
   "metadata": {
    "collapsed": false
   },
   "outputs": [],
   "source": [
    "# Display of the results for n=30 and n=100\n",
    "matplotlib.pyplot.figure(2)\n",
    "\n",
    "matplotlib.pyplot.plot(s, resultat30a01, marker = 'o', color = \"green\")\n",
    "matplotlib.pyplot.plot(s, resultat30a001, marker = 'o', color = \"black\")\n",
    "matplotlib.pyplot.title(\"Erreur et puissance\")\n",
    "matplotlib.pyplot.axis([s[0] - 10, s[len(s)-1] + 10, 0, 1.1])\n",
    "matplotlib.pyplot.xlabel('Standard error')\n",
    "matplotlib.pyplot.ylabel('Proportion of rejections')\n",
    "matplotlib.pyplot.draw()\n",
    "matplotlib.pyplot.show()"
   ]
  },
  {
   "cell_type": "markdown",
   "metadata": {},
   "source": [
    "** Question 8 -** Que constatez-vous lorsque l'erreur de première espèce est diminuée? Pouvez-vous expliquer la raison du comportement observé?"
   ]
  },
  {
   "cell_type": "markdown",
   "metadata": {},
   "source": [
    "** Réponse à la question 8 -** \n",
    "\n",
    "*à compléter ici ou sur votre feuille*"
   ]
  },
  {
   "cell_type": "markdown",
   "metadata": {},
   "source": [
    "## 3 - Test d'adéquation du $\\chi^2$ ##"
   ]
  },
  {
   "cell_type": "markdown",
   "metadata": {},
   "source": [
    "Nous allons réaliser un test d'adéquation à une loi à densité. L'hypothèse nulle est\n",
    "\n",
    "$H_0 : X \\sim E(2),$\n",
    "\n",
    "où $E(\\lambda )$ désigne la loi exponentielle de densité $f(x) = \\frac 1 \\lambda \\exp\\left( - \\frac x \\lambda \\right)$ pour $x > 0$ et $0$ sinon."
   ]
  },
  {
   "cell_type": "markdown",
   "metadata": {},
   "source": [
    "### 3.1 - Rappel de la théorie ###"
   ]
  },
  {
   "cell_type": "markdown",
   "metadata": {},
   "source": [
    "** Question 1 -** Rappeler la statistique de test du $\\chi^2$, la région de rejet et la loi de la statistique de test sous l'hypothèse nulle $H_0$."
   ]
  },
  {
   "cell_type": "markdown",
   "metadata": {},
   "source": [
    "** Réponse à la question 1 -** \n",
    "\n",
    "*à compléter ici ou sur votre feuille*"
   ]
  },
  {
   "cell_type": "markdown",
   "metadata": {},
   "source": [
    "### 3.2 - Code et fonctions Python ###"
   ]
  },
  {
   "cell_type": "markdown",
   "metadata": {},
   "source": [
    "Nous choisissons de faire $q$ intervalles de probabilité égale. Les limites de ces intervalles sont données par le programme Python suivant."
   ]
  },
  {
   "cell_type": "code",
   "execution_count": null,
   "metadata": {
    "collapsed": false
   },
   "outputs": [],
   "source": [
    "# Parameter under the null hypothesis\n",
    "l0 = 2\n",
    "# Sample size\n",
    "n = 100\n",
    "# Number of cells\n",
    "q = 10\n",
    "\n",
    "# Limits of the cells\n",
    "x = list()\n",
    "for i in range(1, q):\n",
    "    tempo = (-1) * l0 * math.log(1 - i / float(q))\n",
    "    x.append( tempo )\n",
    "print'x= ',x\n",
    "\n",
    "# Theoretical number per cell\n",
    "theoriques = [ n / float(q)] * q\n",
    "\n",
    "print'Effectifs théoriques= ',theoriques"
   ]
  },
  {
   "cell_type": "markdown",
   "metadata": {},
   "source": [
    "Nous créons une fonction qui calcule les effectifs observés à partir d'un échantillon et des limites d'intervalles."
   ]
  },
  {
   "cell_type": "code",
   "execution_count": null,
   "metadata": {
    "collapsed": true
   },
   "outputs": [],
   "source": [
    "def Observed(S, x):\n",
    "    # Initialisation\n",
    "    observes = [0] * q\n",
    "    # Loop \n",
    "    for i in range(0, n):\n",
    "        k = 0\n",
    "        condition = True\n",
    "        while condition:\n",
    "            condition = False\n",
    "            if k < q - 1:\n",
    "                if (S[i] > x[k]):\n",
    "                    k = k + 1\n",
    "                    condition = True\n",
    "        observes[ k ] = observes[ k ] +1\n",
    "    return observes"
   ]
  },
  {
   "cell_type": "markdown",
   "metadata": {},
   "source": [
    "Testons le code ci-dessus avec les intervalles que nous avons définis plus haut."
   ]
  },
  {
   "cell_type": "code",
   "execution_count": null,
   "metadata": {
    "collapsed": false
   },
   "outputs": [],
   "source": [
    "ech = list( numpy.random.exponential( l0, n))\n",
    "EffObs = Observed(ech, x)\n",
    "print'Effectifs observés= ', EffObs"
   ]
  },
  {
   "cell_type": "markdown",
   "metadata": {},
   "source": [
    "** Question 2 -** Compléter la fonction suivante pour qu'elle renvoie la décision du test d'adéquation du $\\chi^2$ à la loi $E(2)$."
   ]
  },
  {
   "cell_type": "code",
   "execution_count": null,
   "metadata": {
    "collapsed": true
   },
   "outputs": [],
   "source": [
    "# Function to compute the adequation chi-square test\n",
    "def TestChi2( obs, theo, alpha):\n",
    "    \"Function to compute the test statistics and compare with the threshold\"\n",
    "    \"alph = 1st-type error\"\n",
    "    \"obs = Observed numbers and theo = Theoretical numbers\"\n",
    "    \"T  = test statistics\"\n",
    "    T = 0\n",
    "    for i in range(0, len(obs)):\n",
    "        T = \n",
    "    decision = 0\n",
    "    # Comparison with the threshold\n",
    "    if ( T ):\n",
    "        decision = 1\n",
    "    return decision"
   ]
  },
  {
   "cell_type": "markdown",
   "metadata": {},
   "source": [
    "Testons cette fonction avec un échantillon généré avec la loi $E(2)$ avec une erreur de première espèce $\\alpha = 10\\%$."
   ]
  },
  {
   "cell_type": "code",
   "execution_count": null,
   "metadata": {
    "collapsed": false
   },
   "outputs": [],
   "source": [
    "# Parameter under the null hypothesis\n",
    "l0 = 2\n",
    "# Sample size\n",
    "n = 100\n",
    "# First-type error\n",
    "alpha = 0.1\n",
    "# Number of cells\n",
    "q = 10\n",
    "\n",
    "# Limits of the cells\n",
    "x = list()\n",
    "for i in range(1, q):\n",
    "    tempo = (-1) * l0 * math.log(1 - i / float(q))\n",
    "    x.append( tempo )\n",
    "\n",
    "# Theoretical number per cell\n",
    "EffTheo = [ n / float(q)] * q\n",
    "\n",
    "# Sample\n",
    "ech = list(numpy.random.exponential(l0, n))\n",
    "EffObs = Observed(ech, x)\n",
    "\n",
    "# Chi2 test\n",
    "decision = TestChi2(EffObs, EffTheo, alpha)\n",
    "print'Decision= ', decision\n"
   ]
  },
  {
   "cell_type": "markdown",
   "metadata": {},
   "source": [
    "### 3.3 - Evaluation du test ###"
   ]
  },
  {
   "cell_type": "markdown",
   "metadata": {},
   "source": [
    "Nous allons générer $K$ échantillons et nous allons calculer la proportion de rejets de l'hypothèse nulle.\n",
    "\n",
    "Notre but est d'évaluer l'erreur de première espèce et la puissance du test."
   ]
  },
  {
   "cell_type": "code",
   "execution_count": null,
   "metadata": {
    "collapsed": false
   },
   "outputs": [],
   "source": [
    "# Tests for K samples\n",
    "# Parameters\n",
    "K = 100\n",
    "l0 = 2\n",
    "n = 100\n",
    "alpha = 0.1\n",
    "# Number of cells\n",
    "q = 10\n",
    "\n",
    "# Limits of the cells\n",
    "x = list()\n",
    "for i in range(1, q):\n",
    "    tempo = (-1) * l0 * math.log(1 - i / float(q))\n",
    "    x.append( tempo )\n",
    "    \n",
    "# Theoretical number per cell\n",
    "EffTheo = [ n / float(q)] * q\n",
    "\n",
    "somme = 0\n",
    "for j in range(0, K):\n",
    "    # Generate the sample : exponential distribution\n",
    "    ech = list( numpy.random.exponential( l0, n))\n",
    "    # Number of observations in each cell\n",
    "    EffObs = Observed(ech, x)\n",
    "    # Chi-square adequation test\n",
    "    decision = TestChi2( EffObs, EffTheo, alpha)\n",
    "    somme = somme + decision\n",
    "proportion = somme / float(K)\n",
    "print'Proportion de rejets= ', proportion\n"
   ]
  },
  {
   "cell_type": "markdown",
   "metadata": {},
   "source": [
    "** Question 3 -** Comparer la proportion trouvée avec l'erreur de première espèce $\\alpha$."
   ]
  },
  {
   "cell_type": "markdown",
   "metadata": {},
   "source": [
    "** Réponse à la question 3 -** \n",
    "\n",
    "*à compléter ici ou sur votre feuille*"
   ]
  },
  {
   "cell_type": "markdown",
   "metadata": {},
   "source": [
    "Nous essayons maintenant une distribution dans l'alternative. Nous allons prendre par exemple la loi $E(1.2)$."
   ]
  },
  {
   "cell_type": "code",
   "execution_count": null,
   "metadata": {
    "collapsed": false
   },
   "outputs": [],
   "source": [
    " # Parameters\n",
    "l = 1.2\n",
    "\n",
    "somme = 0\n",
    "\n",
    "for j in range(0, K):\n",
    "    # Generate the sample : exponential distribution\n",
    "    ech = list( numpy.random.exponential( l, n))\n",
    "    # Number of observations in each cell\n",
    "    EffObs = Observed(ech, x)\n",
    "    # Chi-square adequation test\n",
    "    decision = TestChi2( EffObs, EffTheo, alpha)\n",
    "    somme = somme + decision\n",
    "\n",
    "proportion = somme / float(K)\n",
    "\n",
    "print'Proportion de rejets= ', proportion"
   ]
  },
  {
   "cell_type": "markdown",
   "metadata": {},
   "source": [
    "** Question 4 -** Que constatez-vous? Le test détecte-t-il facilement la distribution dans l'hypothèse alternative? Pouvez-vous donner la puissance?"
   ]
  },
  {
   "cell_type": "markdown",
   "metadata": {},
   "source": [
    "** Réponse à la question  4 -** \n",
    "\n",
    "*à compléter ici ou sur votre feuille*"
   ]
  }
 ],
 "metadata": {
  "kernelspec": {
   "display_name": "Python 2",
   "language": "python",
   "name": "python2"
  },
  "language_info": {
   "codemirror_mode": {
    "name": "ipython",
    "version": 2
   },
   "file_extension": ".py",
   "mimetype": "text/x-python",
   "name": "python",
   "nbconvert_exporter": "python",
   "pygments_lexer": "ipython2",
   "version": "2.7.13"
  }
 },
 "nbformat": 4,
 "nbformat_minor": 0
}
