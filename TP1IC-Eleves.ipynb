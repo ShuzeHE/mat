{
 "cells": [
  {
   "cell_type": "markdown",
   "metadata": {},
   "source": [
    "# PROBABILITES et STATISTIQUES : TP Intervalle de confiance"
   ]
  },
  {
   "cell_type": "markdown",
   "metadata": {},
   "source": [
    "*Version du 03/12/2017*\n",
    "\n",
    "*Toute suggestion d'amélioration est à adresser à C. Pouet*"
   ]
  },
  {
   "cell_type": "markdown",
   "metadata": {},
   "source": [
    "## A REMPLIR OBLIGATOIREMENT ##"
   ]
  },
  {
   "cell_type": "markdown",
   "metadata": {},
   "source": [
    "**Identification des élèves : noms et prénoms du binôme**\n",
    "1.  \n",
    "2.  "
   ]
  },
  {
   "cell_type": "markdown",
   "metadata": {},
   "source": [
    "## 1 - Présentation"
   ]
  },
  {
   "cell_type": "markdown",
   "metadata": {},
   "source": [
    "### 1.1 Problèmes posés ###"
   ]
  },
  {
   "cell_type": "markdown",
   "metadata": {},
   "source": [
    "Nous allons nous intéresser dans ce TP à la construction d'intervalles de confiance dans le cas gaussien.\n",
    "\n",
    "Plusieurs situations et problèmes peuvent se présenter :\n",
    "1.  La moyenne $\\mu$ est le paramètre inconnu, la variance $\\sigma^2$ est connue : nous cherchons un intervalle de confiance pour la moyenne $\\mu$ (approche exacte).\n",
    "2.  La moyenne $\\mu$ est connue, la variance $\\sigma^2$ est le paramètre inconnue : nous cherchons un intervalle de confiance pour la variance $\\sigma^2$ (approche exacte et approche asymptotique).\n",
    "3.  La moyenne $\\mu$ et la variance $\\sigma^2$ sont des paramètres inconnus : nous cherchons un intervalle de confiance pour la variance $\\sigma^2$ (approche exacte).\n",
    "4.  La moyenne $\\mu$ et la variance $\\sigma^2$ sont des paramètres inconnus : nous cherchons un intervalle de confiance pour la moyenne $\\mu$ (approche exacte et approche asymptotique).\n",
    "\n",
    "Tous les cas ne seront pas traités dans le TP mais il est conseillé d'étudier aussi les cas non-traités."
   ]
  },
  {
   "cell_type": "markdown",
   "metadata": {},
   "source": [
    "### 1.2 Code Python préliminaire ###"
   ]
  },
  {
   "cell_type": "code",
   "execution_count": null,
   "metadata": {
    "collapsed": true
   },
   "outputs": [],
   "source": [
    "# Code to directly insert graphs into the web page\n",
    "%matplotlib inline\n",
    "\n",
    "# Libraries\n",
    "import matplotlib.pyplot\n",
    "import numpy\n",
    "import math\n",
    "import scipy.stats\n"
   ]
  },
  {
   "cell_type": "markdown",
   "metadata": {},
   "source": [
    "## 2 - Moyenne inconnue, variance connue"
   ]
  },
  {
   "cell_type": "markdown",
   "metadata": {},
   "source": [
    "C'est le cas le plus simple à traiter. Il correspond à une situation où la variabilité du processus est connue à l'avance (par exemple indication de la variabilité d'un appareil de mesure par le fabricant de l'appareil)."
   ]
  },
  {
   "cell_type": "code",
   "execution_count": null,
   "metadata": {
    "collapsed": false
   },
   "outputs": [],
   "source": [
    "# Simulation parameters\n",
    "# Mean\n",
    "mu = 1\n",
    "# Variance\n",
    "s2 = 4\n",
    "# Sample size\n",
    "n = 30\n",
    "# Number of simulations\n",
    "K = 200\n",
    "# Confidence level\n",
    "alpha = 0.95\n"
   ]
  },
  {
   "cell_type": "markdown",
   "metadata": {},
   "source": [
    "**Question 1**\n",
    "\n",
    "Donner un pivot et rappeler la construction de l'intervalle de confiance bilatéral pour $\\mu$ dans le cas où la variance $\\sigma^2$ est connue."
   ]
  },
  {
   "cell_type": "markdown",
   "metadata": {},
   "source": [
    "**Réponses à la question 1**\n",
    "\n",
    "*Répondre ici directement ou sur votre feuille.*"
   ]
  },
  {
   "cell_type": "markdown",
   "metadata": {},
   "source": [
    "**Question 2**\n",
    "\n",
    "Compléter le programme Python ci-dessous afin que pour chaque échantillon soit créé une liste comportant 4 valeurs :\n",
    "*  borne_inf : la borne inférieure de votre intervalle de confiance\n",
    "*  borne_sup : la borne supérieure de votre intervalle de confiance\n",
    "*  ind : une variable booléenne valant 1 lorsque l'intervalle de confiance contient le vrai paramètre $\\mu$\n",
    "*  longueur : la longueur de l'intervalle de confiance (i.e. borne_sup - borne_inf )\n"
   ]
  },
  {
   "cell_type": "markdown",
   "metadata": {},
   "source": [
    "**Réponses à la question 2**\n",
    "\n",
    "*Répondre directement dans le programme ci-dessous*\n"
   ]
  },
  {
   "cell_type": "code",
   "execution_count": null,
   "metadata": {
    "collapsed": false
   },
   "outputs": [],
   "source": [
    "\n",
    "# Value for the quantile: to be filled by students\n",
    "q = \n",
    "\n",
    "# List to record the results\n",
    "# It is a list of lists\n",
    "Confidence_intervals = []\n",
    "\n",
    "# Simulation of K samples of size n\n",
    "for i in range(K):\n",
    "    # Simulation for the sample of size n\n",
    "    S = numpy.random.normal( mu , numpy.sqrt( s2 ), n)\n",
    "    # Mean estimator\n",
    "    emp = numpy.mean( S )\n",
    "    # Lower bound: to be filled by students\n",
    "    borne_inf = \n",
    "    # Upper bound: to be filled by students\n",
    "    borne_sup = \n",
    "    # Parameter inside or outside the confidence interval\n",
    "    ind = (borne_inf <= mu) * (mu <= borne_sup) * 1\n",
    "    # Length of the confidence interval\n",
    "    longueur = borne_sup - borne_inf\n",
    "    # Save the result\n",
    "    Temp = [borne_inf, borne_sup, ind, longueur]\n",
    "    Confidence_intervals.append(Temp)"
   ]
  },
  {
   "cell_type": "markdown",
   "metadata": {},
   "source": [
    "**Question 3**\n",
    "\n",
    "On trace les intervalles de confiance obtenus sur un graphique :\n",
    "*  en vert : les intervalles qui contiennent la vraie valeur du paramètre,\n",
    "*  en rouge : les intervalles qui ne contiennent pas la vraie valeur du paramètre.\n",
    "\n",
    "Comparer le nombre d'intervalles qui contiennent la vraie valeur du paramètre et le niveau de confiance $\\alpha$.\n",
    "\n",
    "La longueur de l'intervalle est-elle fixe? Variable?"
   ]
  },
  {
   "cell_type": "markdown",
   "metadata": {},
   "source": [
    "**Réponses à la question 3**\n",
    "\n",
    "*Répondre ici directement ou sur votre feuille.*"
   ]
  },
  {
   "cell_type": "code",
   "execution_count": null,
   "metadata": {
    "collapsed": false
   },
   "outputs": [],
   "source": [
    "# Display of the results\n",
    "matplotlib.pyplot.figure(1)\n",
    "\n",
    "# Number of correct confidence intervals\n",
    "nombre = 0\n",
    "for i in range(0, K):\n",
    "\tnombre = nombre + Confidence_intervals[i][2]\n",
    "\tcouleur = \"Red\"\n",
    "\tif Confidence_intervals[i][2] == 1:\n",
    "\t\tcouleur=\"Green\"\n",
    "\tline = matplotlib.pyplot.plot([Confidence_intervals[i][0],Confidence_intervals[i][1]],[i,i], color=couleur)\n",
    "matplotlib.pyplot.draw()\n",
    "    "
   ]
  },
  {
   "cell_type": "markdown",
   "metadata": {},
   "source": [
    "Un peu de code Python pour analyser les résultats des simulations :\n",
    "1.  nombre d'intervalles contenant la vraie valeur du paramètre,\n",
    "2.  proportion d'intervalles contenant la vraie valeur du paramètre,\n",
    "3.  longueur moyenne des intervalles,\n",
    "4.  graphe des longueurs des intervalles."
   ]
  },
  {
   "cell_type": "code",
   "execution_count": null,
   "metadata": {
    "collapsed": false
   },
   "outputs": [],
   "source": [
    "print 'nombre d intervalles contenant le vrai parametre = ', nombre\n",
    "\n",
    "print 'proportion =', float(nombre) / K\n",
    "\n",
    "# Graph of the interval length\n",
    "matplotlib.pyplot.figure(2)\n",
    "\n",
    "# List of the lengths\n",
    "tempo = list()\n",
    "for i in range(0, K):\n",
    "    tempo.append( Confidence_intervals[i][3] )\n",
    "\n",
    "print 'longueur moyenne =', numpy.mean( tempo )\n",
    "\n",
    "# Graph\n",
    "matplotlib.pyplot.plot( range(1, K + 1), tempo )\n",
    "matplotlib.pyplot.draw()    "
   ]
  },
  {
   "cell_type": "markdown",
   "metadata": {},
   "source": [
    "** Question 4**\n",
    "\n",
    "On change maintenant le niveau de confiance et on exige $\\alpha = 0.99$.\n",
    "\n",
    "Que constatez-vous sur le nombre d'intervalles contenant le vrai paramètre?\n",
    "\n",
    "Comment a varié la taille des intervalles?"
   ]
  },
  {
   "cell_type": "markdown",
   "metadata": {},
   "source": [
    "**Réponses à la question 4**\n",
    "\n",
    "*Répondre ici directement ou sur votre feuille.*"
   ]
  },
  {
   "cell_type": "code",
   "execution_count": null,
   "metadata": {
    "collapsed": false
   },
   "outputs": [],
   "source": [
    "# New confidence level\n",
    "alpha = 0.99\n",
    "\n",
    "# Value for the quantile: to be filled by students\n",
    "q = \n",
    "\n",
    "# List to record the results\n",
    "# It is a list of lists\n",
    "Confidence_intervals = []\n",
    "\n",
    "# Simulation of K samples of size n\n",
    "for i in range(K):\n",
    "    # Simulation for the sample of size n\n",
    "    S = numpy.random.normal( mu , numpy.sqrt( s2 ), n)\n",
    "    # Mean estimator\n",
    "    emp = numpy.mean( S )\n",
    "    # Lower bound: to be filled by students\n",
    "    borne_inf = \n",
    "    # Upper bound: to be filled by students\n",
    "    borne_sup = \n",
    "    # Parameter inside or outside the confidence interval\n",
    "    ind = (borne_inf <= mu) * (mu <= borne_sup) * 1\n",
    "    # Length of the confidence interval\n",
    "    longueur = borne_sup - borne_inf\n",
    "    # Save the result\n",
    "    Temp = [borne_inf, borne_sup, ind, longueur]\n",
    "    Confidence_intervals.append(Temp)\n",
    "\n",
    "# Display of the results\n",
    "matplotlib.pyplot.figure(2)\n",
    "\n",
    "# Number of correct confidence intervals\n",
    "nombre = 0\n",
    "for i in range(0, K):\n",
    "    nombre = nombre + Confidence_intervals[i][2]\n",
    "    couleur = \"Red\"\n",
    "    if Confidence_intervals[i][2] == 1:\n",
    "        couleur=\"Green\"\n",
    "    line = matplotlib.pyplot.plot([Confidence_intervals[i][0],Confidence_intervals[i][1]],[i,i], color=couleur)\n",
    "matplotlib.pyplot.draw()"
   ]
  },
  {
   "cell_type": "markdown",
   "metadata": {},
   "source": [
    "Un peu de code Python pour analyser les résultats des simulations :\n",
    "1.  nombre d'intervalles contenant la vraie valeur du paramètre,\n",
    "2.  proportion d'intervalles contenant la vraie valeur du paramètre,\n",
    "3.  longueur moyenne des intervalles,\n",
    "4.  graphe des longueurs des intervalles."
   ]
  },
  {
   "cell_type": "code",
   "execution_count": null,
   "metadata": {
    "collapsed": false
   },
   "outputs": [],
   "source": [
    "print 'nombre d intervalles contenant le vrai parametre = ', nombre\n",
    "\n",
    "print 'proportion =', float(nombre) / K\n",
    "\n",
    "# Graph of the interval length\n",
    "matplotlib.pyplot.figure(2)\n",
    "\n",
    "# List of the lengths\n",
    "tempo = list()\n",
    "for i in range(0, K):\n",
    "    tempo.append( Confidence_intervals[i][3] )\n",
    "    \n",
    "print 'longueur moyenne =', numpy.mean( tempo )\n",
    "\n",
    "# Graph\n",
    "matplotlib.pyplot.plot( range(1, K + 1), tempo )\n",
    "matplotlib.pyplot.draw()    "
   ]
  },
  {
   "cell_type": "markdown",
   "metadata": {},
   "source": [
    "## 3 - Variance inconnue, moyenne connue ##"
   ]
  },
  {
   "cell_type": "markdown",
   "metadata": {},
   "source": [
    "Ce cas se présente quand un fabricant veut déterminer la variabilité d'un appareil ou d'une machine. Par exemple, pour étudier la variabilité d'un voltmètre, le fabricant génère une tension très précisément et enregistre les mesures de cette tension par le voltmètre."
   ]
  },
  {
   "cell_type": "code",
   "execution_count": null,
   "metadata": {
    "collapsed": false
   },
   "outputs": [],
   "source": [
    "# Simulation parameters\n",
    "# Mean\n",
    "mu = 12\n",
    "# Variance\n",
    "s2 = 6\n",
    "# Sample size\n",
    "n = 30\n",
    "# Number of simulations\n",
    "K = 200\n",
    "# Confidence level\n",
    "alpha = 0.9"
   ]
  },
  {
   "cell_type": "markdown",
   "metadata": {},
   "source": [
    "**Question 1**\n",
    "\n",
    "Donner un pivot et expliquer la construction d'un intervalle de confiance unilatéral pour $\\sigma^2$ de la forme $[0, b]$ où $b$ est la borne supérieure à déterminer à l'aide du pivot.\n",
    "\n",
    "On rappelle qu'on s'intéresse au cas où la variance $\\sigma^2$ est le paramètre inconnu et où la moyenne $\\mu$ est connue."
   ]
  },
  {
   "cell_type": "markdown",
   "metadata": {},
   "source": [
    "**Réponses à la question 1**\n",
    "\n",
    "*Répondre ici directement ou sur votre feuille.*"
   ]
  },
  {
   "cell_type": "markdown",
   "metadata": {},
   "source": [
    "**Question 2**\n",
    "\n",
    "Compléter le programme Python ci-dessous afin que pour chaque échantillon soit créé une liste comportant 4 valeurs :\n",
    "*  borne_inf : cette valeur doit toujours être $0$\n",
    "*  borne_sup : la borne supérieure de votre intervalle de confiance\n",
    "*  ind : une variable booléenne valant 1 lorsque l'intervalle de confiance contient le vrai paramètre $\\mu$\n",
    "*  longueur : la longueur de l'intervalle de confiance (i.e. borne_sup - borne_inf )\n",
    "\n",
    "On rappelle qu'ici l'intervalle est unilatéral et que la borne inférieure est toujours $0$.\n"
   ]
  },
  {
   "cell_type": "markdown",
   "metadata": {},
   "source": [
    "**Réponses à la question 2**\n",
    "\n",
    "*Répondre directement dans le programme ci-dessous*"
   ]
  },
  {
   "cell_type": "code",
   "execution_count": null,
   "metadata": {
    "collapsed": false
   },
   "outputs": [],
   "source": [
    "\n",
    "# Value for the quantile: to be filled by students\n",
    "q = \n",
    "\n",
    "# List to record the results\n",
    "# It is a list of lists\n",
    "Confidence_intervals = []\n",
    "\n",
    "# Simulation of K samples of size n\n",
    "for i in range(K):\n",
    "    # Simulation for the sample of size n\n",
    "    S = numpy.random.normal( mu , numpy.sqrt( s2 ), n)\n",
    "    # Variance estimator when mean is known\n",
    "    Vest = numpy.sum( [ (s - mu )**2 for s in S] ) / n\n",
    "    # Lower bound: to be filled by students\n",
    "    borne_inf = 0\n",
    "    # Upper bound: to be filled by students\n",
    "    borne_sup = \n",
    "    # Parameter inside or outside the confidence interval\n",
    "    ind = (s2 <= borne_sup) * 1\n",
    "    # Length of the confidence interval\n",
    "    longueur = borne_sup\n",
    "    # Save the result\n",
    "    Temp = [borne_inf, borne_sup, ind, longueur]\n",
    "    Confidence_intervals.append(Temp)"
   ]
  },
  {
   "cell_type": "markdown",
   "metadata": {},
   "source": [
    "**Question 3**\n",
    "\n",
    "On trace les intervalles de confiance obtenus sur un graphique :\n",
    "*  en vert : les intervalles qui contiennent la vraie valeur du paramètre,\n",
    "*  en rouge : les intervalles qui ne contiennent pas la vraie valeur du paramètre.\n",
    "\n",
    "Comparer le nombre d'intervalles qui contiennent la vraie valeur du paramètre et le niveau de confiance $\\alpha$.\n",
    "\n",
    "La longueur de l'intervalle est-elle fixe? Variable?"
   ]
  },
  {
   "cell_type": "markdown",
   "metadata": {},
   "source": [
    "**Réponses à la question 3**\n",
    "\n",
    "*Répondre ici directement ou sur votre feuille.*"
   ]
  },
  {
   "cell_type": "code",
   "execution_count": null,
   "metadata": {
    "collapsed": false
   },
   "outputs": [],
   "source": [
    "# Display of the results\n",
    "matplotlib.pyplot.figure(1)\n",
    "\n",
    "# Number of correct confidence intervals\n",
    "nombre = 0\n",
    "for i in range(0, K):\n",
    "    nombre = nombre + Confidence_intervals[i][2]\n",
    "    couleur = \"Red\"\n",
    "    if Confidence_intervals[i][2] == 1:\n",
    "        couleur=\"Green\"\n",
    "    line = matplotlib.pyplot.plot([Confidence_intervals[i][0],Confidence_intervals[i][1]],[i,i], color=couleur)\n",
    "matplotlib.pyplot.draw()\n",
    "    "
   ]
  },
  {
   "cell_type": "markdown",
   "metadata": {},
   "source": [
    "Un peu de code Python pour analyser les résultats des simulations :\n",
    "1.  nombre d'intervalles contenant la vraie valeur du paramètre,\n",
    "2.  proportion d'intervalles contenant la vraie valeur du paramètre,\n",
    "3.  longueur moyenne des intervalles,\n",
    "3.  graphe des longueurs des intervalles."
   ]
  },
  {
   "cell_type": "code",
   "execution_count": null,
   "metadata": {
    "collapsed": false
   },
   "outputs": [],
   "source": [
    "print 'nombre d intervalles contenant le vrai parametre = ', nombre\n",
    "\n",
    "print 'proportion =', float(nombre) / K\n",
    "\n",
    "# Graph of the interval length\n",
    "matplotlib.pyplot.figure(2)\n",
    "\n",
    "# List of the lengths\n",
    "tempo = list()\n",
    "for i in range(0, K):\n",
    "    tempo.append( Confidence_intervals[i][3] )\n",
    "    \n",
    "print 'longueur moyenne =', numpy.mean( tempo )\n",
    "\n",
    "# Graph\n",
    "matplotlib.pyplot.plot( range(1, K + 1), tempo )\n",
    "matplotlib.pyplot.draw()    "
   ]
  },
  {
   "cell_type": "markdown",
   "metadata": {},
   "source": [
    "## 4 - Moyenne inconnue, variance inconnue"
   ]
  },
  {
   "cell_type": "markdown",
   "metadata": {},
   "source": [
    "C'est le cas qui est rencontré le plus en pratique. Il correspond à l'observation d'un phénomène dont on ne connaît ni la moyenne, ni la variance.\n",
    "\n",
    "Nous allons nous intéresser au cas de la construction de l'intervalle de confiance pour la moyenne lorsque la variance est inconnue et est donc considérée comme un paramètre de nuisance.\n",
    "\n",
    "Deux approches seront utilisées :\n",
    "1.  approche exacte,\n",
    "2.  approche asymptotique."
   ]
  },
  {
   "cell_type": "code",
   "execution_count": null,
   "metadata": {
    "collapsed": false
   },
   "outputs": [],
   "source": [
    "# Simulation parameters\n",
    "# Mean\n",
    "mu = 8\n",
    "# Variance\n",
    "s2 = 3\n",
    "# Sample size\n",
    "n = 10\n",
    "# Number of simulations\n",
    "K = 1000\n",
    "# Confidence level\n",
    "alpha = 0.99"
   ]
  },
  {
   "cell_type": "markdown",
   "metadata": {},
   "source": [
    "### 1.1 Approche exacte ###"
   ]
  },
  {
   "cell_type": "markdown",
   "metadata": {},
   "source": [
    "**Question 1**\n",
    "\n",
    "Donner un pivot et rappeler la construction de l'intervalle de confiance bilatéral pour $\\mu$ dans le cas où la variance $\\sigma^2$ est inconnue."
   ]
  },
  {
   "cell_type": "markdown",
   "metadata": {},
   "source": [
    "**Réponses à la question 1**\n",
    "\n",
    "*Répondre ici directement ou sur votre feuille.*"
   ]
  },
  {
   "cell_type": "markdown",
   "metadata": {},
   "source": [
    "**Question 2**\n",
    "\n",
    "Compléter le programme Python ci-dessous afin que pour chaque échantillon soit créé une liste comportant 4 valeurs :\n",
    "*  borne_inf : la borne inférieure de votre intervalle de confiance\n",
    "*  borne_sup : la borne supérieure de votre intervalle de confiance\n",
    "*  ind : une variable booléenne valant 1 lorsque l'intervalle de confiance contient le vrai paramètre $\\mu$\n",
    "*  longueur : la longueur de l'intervalle de confiance (i.e. borne_sup - borne_inf )\n"
   ]
  },
  {
   "cell_type": "markdown",
   "metadata": {},
   "source": [
    "**Réponses à la question 2**\n",
    "\n",
    "*Répondre directement dans le programme ci-dessous*\n",
    "\n"
   ]
  },
  {
   "cell_type": "code",
   "execution_count": null,
   "metadata": {
    "collapsed": false
   },
   "outputs": [],
   "source": [
    "# Value for the quantile: to be filled by students\n",
    "q = \n",
    "\n",
    "# List to record the results\n",
    "# It is a list of lists\n",
    "Confidence_intervals = []\n",
    "\n",
    "# Simulation of K samples of size n\n",
    "for i in range(K):\n",
    "    # Simulation for the sample of size n\n",
    "    S = numpy.random.normal( mu, numpy.sqrt(s2), n)\n",
    "    # Mean estimator\n",
    "    emp = numpy.mean( S )\n",
    "    # Variance estimator\n",
    "    Vemp = numpy.var( S )\n",
    "    # Lower bound: to be filled by students\n",
    "    borne_inf = \n",
    "    # Upper bound: to be filled by students\n",
    "    borne_sup = \n",
    "    # Parameter inside or outside the confidence interval\n",
    "    ind = (borne_inf <= mu) * (mu <= borne_sup) * 1\n",
    "    # Length of the confidence interval\n",
    "    longueur = borne_sup - borne_inf\n",
    "    # Save the result\n",
    "    Temp = [borne_inf, borne_sup, ind, longueur]\n",
    "    Confidence_intervals.append(Temp)"
   ]
  },
  {
   "cell_type": "markdown",
   "metadata": {},
   "source": [
    "**Question 3**\n",
    "\n",
    "On trace les intervalles de confiance obtenus sur un graphique :\n",
    "*  en vert : les intervalles qui contiennent la vraie valeur du paramètre,\n",
    "*  en rouge : les intervalles qui ne contiennent pas la vraie valeur du paramètre.\n",
    "\n",
    "Comparer le nombre d'intervalles qui contiennent la vraie valeur du paramètre et le niveau de confiance $\\alpha$.\n",
    "\n",
    "La longueur de l'intervalle est-elle fixe? Variable?"
   ]
  },
  {
   "cell_type": "markdown",
   "metadata": {},
   "source": [
    "**Réponses à la question 3**\n",
    "\n",
    "*Répondre ici directement ou sur votre feuille.*"
   ]
  },
  {
   "cell_type": "code",
   "execution_count": null,
   "metadata": {
    "collapsed": false
   },
   "outputs": [],
   "source": [
    "# Display of the results\n",
    "matplotlib.pyplot.figure(1)\n",
    "\n",
    "# Number of correct confidence intervals\n",
    "nombre = 0\n",
    "for i in range(0, K):\n",
    "    nombre = nombre + Confidence_intervals[i][2]\n",
    "    couleur = \"Red\"\n",
    "    if Confidence_intervals[i][2] == 1:\n",
    "        couleur=\"Green\"\n",
    "    line = matplotlib.pyplot.plot([Confidence_intervals[i][0],Confidence_intervals[i][1]],[i,i], color=couleur)\n",
    "matplotlib.pyplot.draw()    "
   ]
  },
  {
   "cell_type": "markdown",
   "metadata": {},
   "source": [
    "Un peu de code Python pour analyser les résultats des simulations :\n",
    "1.  nombre d'intervalles contenant la vraie valeur du paramètre,\n",
    "2.  proportion d'intervalles contenant la vraie valeur du paramètre,\n",
    "3.  longueur moyenne des intervalles,\n",
    "4.  graphe des longueurs des intervalles."
   ]
  },
  {
   "cell_type": "code",
   "execution_count": null,
   "metadata": {
    "collapsed": false
   },
   "outputs": [],
   "source": [
    "print 'nombre d intervalles contenant le vrai parametre = ', nombre\n",
    "\n",
    "print 'proportion =', float(nombre) / K\n",
    "\n",
    "# Graph of the interval length\n",
    "matplotlib.pyplot.figure(2)\n",
    "\n",
    "# List of the lengths\n",
    "tempo = list()\n",
    "for i in range(0, K):\n",
    "    tempo.append( Confidence_intervals[i][3] )\n",
    "    \n",
    "print 'longueur moyenne =', numpy.mean( tempo )\n",
    "\n",
    "# Graph\n",
    "matplotlib.pyplot.plot( range(1, K + 1), tempo )\n",
    "matplotlib.pyplot.draw()    "
   ]
  },
  {
   "cell_type": "markdown",
   "metadata": {},
   "source": [
    "### 1.2 Approche asymptotique ###"
   ]
  },
  {
   "cell_type": "markdown",
   "metadata": {},
   "source": [
    "**Question 1**\n",
    "\n",
    "Donner un pivot **asymptotique** et expliquer la construction de l'intervalle de confiance bilatéral pour $\\mu$ dans le cas où la variance $\\sigma^2$ est inconnue en vous basant sur le pivot asymptotique."
   ]
  },
  {
   "cell_type": "markdown",
   "metadata": {},
   "source": [
    "**Réponses à la question 1**\n",
    "\n",
    "*Répondre ici directement ou sur votre feuille.*"
   ]
  },
  {
   "cell_type": "markdown",
   "metadata": {},
   "source": [
    "**Question 2**\n",
    "\n",
    "Compléter le programme Python ci-dessous afin que pour chaque échantillon soit créé une liste comportant 4 valeurs :\n",
    "*  borne_inf : la borne inférieure de votre intervalle de confiance\n",
    "*  borne_sup : la borne supérieure de votre intervalle de confiance\n",
    "*  ind : une variable booléenne valant 1 lorsque l'intervalle de confiance contient le vrai paramètre $\\mu$\n",
    "*  longueur : la longueur de l'intervalle de confiance (i.e. borne_sup - borne_inf )\n"
   ]
  },
  {
   "cell_type": "markdown",
   "metadata": {},
   "source": [
    "**Réponses à la question 2**\n",
    "\n",
    "*Répondre directement dans le programme ci-dessous*"
   ]
  },
  {
   "cell_type": "code",
   "execution_count": null,
   "metadata": {
    "collapsed": false
   },
   "outputs": [],
   "source": [
    "# Value for the quantile: to be filled by students\n",
    "q = \n",
    "\n",
    "# List to record the results\n",
    "# It is a list of lists\n",
    "Confidence_intervals = []\n",
    "\n",
    "# Simulation of K samples of size n\n",
    "for i in range(K):\n",
    "    # Simulation for the sample of size n\n",
    "    S = numpy.random.normal( mu, numpy.sqrt(s2), n)\n",
    "    # Mean estimator\n",
    "    emp = numpy.mean( S )\n",
    "    # Variance estimator\n",
    "    Vemp = numpy.var( S )\n",
    "    # Lower bound: to be filled by students\n",
    "    borne_inf = \n",
    "    # Upper bound: to be filled by students\n",
    "    borne_sup = \n",
    "    # Parameter inside or outside the confidence interval\n",
    "    ind = (borne_inf <= mu) * (mu <= borne_sup) * 1\n",
    "    # Length of the confidence interval\n",
    "    longueur = borne_sup - borne_inf\n",
    "    # Save the result\n",
    "    Temp = [borne_inf, borne_sup, ind, longueur]\n",
    "    Confidence_intervals.append(Temp)"
   ]
  },
  {
   "cell_type": "markdown",
   "metadata": {},
   "source": [
    "**Question 3**\n",
    "\n",
    "On trace les intervalles de confiance obtenus sur un graphique :\n",
    "*  en vert : les intervalles qui contiennent la vraie valeur du paramètre,\n",
    "*  en rouge : les intervalles qui ne contiennent pas la vraie valeur du paramètre.\n",
    "\n",
    "Comparer le nombre d'intervalles qui contiennent la vraie valeur du paramètre et le niveau de confiance $\\alpha$.\n",
    "\n",
    "La longueur de l'intervalle est-elle fixe? Variable?\n",
    "\n",
    "Comparer les résultats obtenus avec le cas du pivot exact. Quel problème constatez-vous quand la taille de l'échantillon, $n$, est petite? Que se passe-t-il si la taille de l'échantillon est grande (par exemple, $n = 100$)."
   ]
  },
  {
   "cell_type": "markdown",
   "metadata": {},
   "source": [
    "**Réponses à la question 3**\n",
    "\n",
    "*Répondre ici directement ou sur votre feuille.*"
   ]
  },
  {
   "cell_type": "code",
   "execution_count": null,
   "metadata": {
    "collapsed": false
   },
   "outputs": [],
   "source": [
    "# Display of the results\n",
    "matplotlib.pyplot.figure(1)\n",
    "\n",
    "# Number of correct confidence intervals\n",
    "nombre = 0\n",
    "for i in range(0, K):\n",
    "    nombre = nombre + Confidence_intervals[i][2]\n",
    "    couleur = \"Red\"\n",
    "    if Confidence_intervals[i][2] == 1:\n",
    "        couleur=\"Green\"\n",
    "    line = matplotlib.pyplot.plot([Confidence_intervals[i][0],Confidence_intervals[i][1]],[i,i], color=couleur)\n",
    "matplotlib.pyplot.draw()    "
   ]
  },
  {
   "cell_type": "markdown",
   "metadata": {},
   "source": [
    "Un peu de code Python pour analyser les résultats des simulations :\n",
    "1.  nombre d'intervalles contenant la vraie valeur du paramètre,\n",
    "2.  proportion d'intervalles contenant la vraie valeur du paramètre,\n",
    "3.  graphe des longueurs des intervalles."
   ]
  },
  {
   "cell_type": "code",
   "execution_count": null,
   "metadata": {
    "collapsed": false
   },
   "outputs": [],
   "source": [
    "print 'nombre d intervalles contenant le vrai parametre = ', nombre\n",
    "\n",
    "print 'proportion =', float(nombre) / K\n",
    "\n",
    "# Graph of the interval length\n",
    "matplotlib.pyplot.figure(2)\n",
    "\n",
    "# List of the lengths\n",
    "tempo = list()\n",
    "for i in range(0, K):\n",
    "    tempo.append( Confidence_intervals[i][3] )\n",
    "    \n",
    "print 'longueur moyenne =', numpy.mean( tempo )\n",
    "\n",
    "# Graph\n",
    "matplotlib.pyplot.plot( range(1, K + 1), tempo )\n",
    "matplotlib.pyplot.draw()    "
   ]
  },
  {
   "cell_type": "code",
   "execution_count": null,
   "metadata": {
    "collapsed": true
   },
   "outputs": [],
   "source": []
  }
 ],
 "metadata": {
  "celltoolbar": "Edit Metadata",
  "kernelspec": {
   "display_name": "Python 2",
   "language": "python",
   "name": "python2"
  },
  "language_info": {
   "codemirror_mode": {
    "name": "ipython",
    "version": 2
   },
   "file_extension": ".py",
   "mimetype": "text/x-python",
   "name": "python",
   "nbconvert_exporter": "python",
   "pygments_lexer": "ipython2",
   "version": "2.7.13"
  }
 },
 "nbformat": 4,
 "nbformat_minor": 1
}
